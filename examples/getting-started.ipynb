{
 "cells": [
  {
   "cell_type": "markdown",
   "id": "62b6c088-7c2b-466f-ad77-89c6aca66394",
   "metadata": {},
   "source": [
    "# Getting Started"
   ]
  },
  {
   "cell_type": "markdown",
   "id": "b4a23365-4716-4e6f-a4ff-7f2299a0d9e4",
   "metadata": {},
   "source": [
    "## Install the SingleStore package"
   ]
  },
  {
   "cell_type": "markdown",
   "id": "217dd604-a72e-487d-abea-cb2774d1ff4b",
   "metadata": {},
   "source": [
    "The SingleStore package can be installed the following way:\n",
    "```\n",
    "pip install singlestore\n",
    "```\n",
    "\n",
    "It can also be installed using `conda` for Anaconda users:\n",
    "```\n",
    "conda install -c singlestore singlestore\n",
    "```\n",
    "\n",
    "In addition, you can install the SQLAlchemy plugin with the following:\n",
    "```\n",
    "pip install singlestore[sqlalchemy]\n",
    "```"
   ]
  },
  {
   "cell_type": "markdown",
   "id": "f8a8f0c7-efbe-4e50-9301-97907bb23058",
   "metadata": {},
   "source": [
    "## Import SingleStore"
   ]
  },
  {
   "cell_type": "code",
   "execution_count": 1,
   "id": "57f25a65-1047-4762-8902-541bedeb09dc",
   "metadata": {},
   "outputs": [],
   "source": [
    "import singlestore as s2"
   ]
  },
  {
   "cell_type": "markdown",
   "id": "bc135df9-5d16-4b02-95ca-20fff30250a2",
   "metadata": {},
   "source": [
    "## Create a connection\n",
    "\n",
    "This function is compliant with the Python DB-API 2.0. In addition, it allows you to use a URL\n",
    "as a connection string rather than individual parameters. Parameters may also be set using\n",
    "environment variable (e.g., `SINGLESTORE_HOST`, `SINGLESTORE_USER`, `SINGLESTORE_PASSWORD`, etc.)."
   ]
  },
  {
   "cell_type": "code",
   "execution_count": 2,
   "id": "42e64509-a074-41a4-a6e2-6e33f83d74ea",
   "metadata": {},
   "outputs": [],
   "source": [
    "conn_url = 'root:@127.0.0.1/x_db'"
   ]
  },
  {
   "cell_type": "code",
   "execution_count": 3,
   "id": "5dd638be-7c8f-4c0b-8d78-63ee150b3575",
   "metadata": {},
   "outputs": [],
   "source": [
    "conn = s2.connect(conn_url)"
   ]
  },
  {
   "cell_type": "markdown",
   "id": "8ad96263-013f-46cb-a62c-067801f368f8",
   "metadata": {},
   "source": [
    "The URL in the code above can take various forms. One feature of it is that it can be used to specify alternate MySQL drivers or the HTTP API (shown below).\n",
    "```\n",
    "http://root:@localhost:9000/x_db\n",
    "```\n",
    "\n",
    "The default connector is `mysql.connector`.\n",
    "```\n",
    "mysqlconnector://root:@localhost/x_db\n",
    "```\n",
    "\n",
    "Other drivers can be specified as well, including `mysqldb`, `pymysql`, `mariadb`, and `cymysql`. These will be unsupported modes however. They are \n",
    "simply built in as part of the architecture in case we want to change to a different one later on. All of the connection parameters and behaviors\n",
    "are normalized so that they are interchangeable.\n",
    "```\n",
    "mysqldb://root:@localhost/x_db\n",
    "pymysql://root:@localhost/x_db\n",
    "\n",
    "```"
   ]
  },
  {
   "cell_type": "markdown",
   "id": "07898bd5-2751-463d-aaaf-3e41b01b3ce6",
   "metadata": {},
   "source": [
    "### Environment Variables\n",
    "\n",
    "Connection URLs can also be set using an environment variable. This allows you to create environments that already have connection parameters\n",
    "embedded in them so that new connections can be made without specifying any parameters."
   ]
  },
  {
   "cell_type": "code",
   "execution_count": 4,
   "id": "9449bb3b-c549-4cd8-8e5f-2fcb04027edc",
   "metadata": {},
   "outputs": [],
   "source": [
    "import os\n",
    "\n",
    "os.environ['SINGLESTORE_URL'] = conn_url"
   ]
  },
  {
   "cell_type": "markdown",
   "id": "3eb8044c-7176-4dbe-b8a8-e8f3eb649888",
   "metadata": {},
   "source": [
    "### Cursors\n",
    "\n",
    "Most interaction with databases are done using cursors. To create a cursor from a connection, you use the `cursor` method."
   ]
  },
  {
   "cell_type": "code",
   "execution_count": 5,
   "id": "f08641b5-31db-460c-8e3a-c6fec2c0aa60",
   "metadata": {},
   "outputs": [],
   "source": [
    "cur = conn.cursor()"
   ]
  },
  {
   "cell_type": "markdown",
   "id": "309fccfb-7d45-4d6b-8bae-3102ecbb5dc8",
   "metadata": {},
   "source": [
    "## Create tables and insert data"
   ]
  },
  {
   "cell_type": "markdown",
   "id": "52184f98-b9c7-4350-91d7-d71230a6b4ec",
   "metadata": {},
   "source": [
    "Using the cursor, we can execute commands for creating tables and inserting data."
   ]
  },
  {
   "cell_type": "markdown",
   "id": "3c8ba00a-76e5-46c2-b955-a88e26387d27",
   "metadata": {},
   "source": [
    "### Reset Tables"
   ]
  },
  {
   "cell_type": "code",
   "execution_count": 6,
   "id": "d3987ba6-bc54-404f-add8-f92e98de0be0",
   "metadata": {},
   "outputs": [],
   "source": [
    "cur.execute(r'drop table if exists departments')\n",
    "cur.execute(r'drop table if exists employees')\n",
    "cur.execute(r'drop table if exists salaries')\n",
    "\n",
    "cur.execute(r'''\n",
    "create table if not exists departments (\n",
    "  id int,\n",
    "  name varchar(255),\n",
    "  primary key (id)\n",
    ");''')\n",
    "\n",
    "cur.execute(r'''\n",
    "create table if not exists employees (\n",
    "  id int,\n",
    "  deptId int,\n",
    "  managerId int,\n",
    "  name varchar(255),\n",
    "  hireDate date,\n",
    "  state char(2),\n",
    "  primary key (id)\n",
    ");''')\n",
    "\n",
    "cur.execute(r'''\n",
    "create table if not exists salaries (\n",
    "  employeeId int,\n",
    "  salary int,\n",
    "  primary key (employeeId)\n",
    ");''')"
   ]
  },
  {
   "cell_type": "markdown",
   "id": "505f14d4-a41c-40ff-a95d-6f5dd8dd8c55",
   "metadata": {},
   "source": [
    "### Insert Data Using Named Parameters\n",
    "\n",
    "Using named parameters such as `:foo` is the default parameter format in queries. This requires dictionaries for the parameter structure."
   ]
  },
  {
   "cell_type": "code",
   "execution_count": 7,
   "id": "7dbc5822-dcf5-47e3-85b4-accae6334119",
   "metadata": {},
   "outputs": [],
   "source": [
    "cur.executemany(r'insert into departments(id, name) values (:id, :name)',\n",
    "    [\n",
    "        dict(id=1, name='Marketing'),\n",
    "        dict(id=2, name='Finance'),\n",
    "        dict(id=3, name='Sales'),\n",
    "        dict(id=4, name='Customer Service'),\n",
    "    ]\n",
    ")"
   ]
  },
  {
   "cell_type": "markdown",
   "id": "bd4cc0d3-a263-479c-999a-b69ad6ffce49",
   "metadata": {},
   "source": [
    "### Insert Data Using Positional Parameters\n",
    "\n",
    "You can also use positional parameters which specify the one-based index in a list or tuple."
   ]
  },
  {
   "cell_type": "code",
   "execution_count": 8,
   "id": "8b3c53cb-1620-47af-89ec-6900a115fbd7",
   "metadata": {},
   "outputs": [],
   "source": [
    "cur.executemany(r'insert into employees (id, deptId, managerId, name, hireDate, state) '\n",
    "                r'values (:1, :2, :3, :4, :5, :6)',\n",
    "    [\n",
    "        (1, 2, None, \"Karly Steele\", \"2011-08-25\", \"NY\"),\n",
    "        (2, 1, 1, \"Rhona Nichols\", \"2008-09-11\", \"TX\"),\n",
    "        (3, 4, 2, \"Hedda Kent\", \"2005-10-27\", \"TX\"),\n",
    "        (4, 2, 1, \"Orli Strong\", \"2001-07-01\", \"NY\"),\n",
    "        (5, 1, 1, \"Leonard Haynes\", \"2011-05-30\", \"MS\"),\n",
    "        (6, 1, 5, \"Colette Payne\", \"2002-10-22\", \"MS\"),\n",
    "        (7, 3, 4, \"Cooper Hatfield\", \"2010-08-19\", \"NY\"),\n",
    "        (8, 2, 4, \"Timothy Battle\", \"2001-01-21\", \"NY\"),\n",
    "        (9, 3, 1, \"Doris Munoz\", \"2008-10-22\", \"NY\"),\n",
    "        (10, 4, 2, \"Alea Wiggins\", \"2007-08-21\", \"TX\"),\n",
    "    ]\n",
    ")"
   ]
  },
  {
   "cell_type": "markdown",
   "id": "e12bc405-d69b-43cd-942d-9c99784914c2",
   "metadata": {},
   "source": [
    "### Insert Data From DataFrame"
   ]
  },
  {
   "cell_type": "markdown",
   "id": "ec129e27-a410-48a6-8aff-639b9fb8a673",
   "metadata": {},
   "source": [
    "In addition to this method, you can use the `pandas.DataFrame.to_sql` method with a SQLAlchemy SingleStore connection object."
   ]
  },
  {
   "cell_type": "code",
   "execution_count": 9,
   "id": "d9f35844-a6e8-411a-acc1-0b938195de27",
   "metadata": {},
   "outputs": [],
   "source": [
    "import pandas as pd\n",
    "\n",
    "df = pd.DataFrame( \n",
    "    [\n",
    "        (1, 885219), \n",
    "        (2, 451519), \n",
    "        (3, 288905), \n",
    "        (4, 904312), \n",
    "        (5, 919124),\n",
    "        (6, 101538), \n",
    "        (7, 355077), \n",
    "        (8, 900436), \n",
    "        (9, 41557), \n",
    "        (10, 556263),\n",
    "    ],\n",
    "    columns=['employeeId', 'salary'])\n",
    "\n",
    "cur.executemany(r'insert into salaries (employeeId, salary) '\n",
    "                r'values (:1, :2)', df)\n",
    "\n",
    "conn.commit()"
   ]
  },
  {
   "cell_type": "markdown",
   "id": "d26b9be3-d7e0-4c90-8b75-5b36f015e9cb",
   "metadata": {},
   "source": [
    "# Querying data"
   ]
  },
  {
   "cell_type": "markdown",
   "id": "301d3c5d-f3e7-4c75-a0fe-c3c9ca889b57",
   "metadata": {},
   "source": [
    "Here we are executing a simple `SELECT` operation."
   ]
  },
  {
   "cell_type": "code",
   "execution_count": null,
   "id": "3b5e07ce-3586-48cf-9cd2-b77374250c1b",
   "metadata": {},
   "outputs": [],
   "source": [
    "cur.execute('select name from employees')"
   ]
  },
  {
   "cell_type": "markdown",
   "id": "71cca025-fb02-450e-ae4a-ee2767157753",
   "metadata": {},
   "source": [
    "There are various ways of fetching data including the `fetchone()`, `fetchmany()`, and `fetchall()` methods\n",
    "description in the DB-API. In addition, you can simply iterate over the cursor itself."
   ]
  },
  {
   "cell_type": "code",
   "execution_count": null,
   "id": "6881d2df-0dde-4709-8f91-2f0a100d311b",
   "metadata": {},
   "outputs": [],
   "source": [
    "for item in cur:\n",
    "    print(item)"
   ]
  },
  {
   "cell_type": "markdown",
   "id": "f1e5df6e-3985-4a3d-91ae-b8943b397708",
   "metadata": {},
   "source": [
    "By default, results come back in tuples, but there are other result structure options as well, they include `namedtuple`, `dict`, and `dataframe`."
   ]
  },
  {
   "cell_type": "code",
   "execution_count": null,
   "id": "5025706a-1ac5-463c-bcb4-a2911df49e9f",
   "metadata": {},
   "outputs": [],
   "source": [
    "conn = s2.connect(results_format='dataframe')"
   ]
  },
  {
   "cell_type": "code",
   "execution_count": null,
   "id": "caece6cc-78fa-4cfc-b488-e7ba7a63baed",
   "metadata": {},
   "outputs": [],
   "source": [
    "cur = conn.cursor()\n",
    "cur.execute('select name from employees')\n",
    "cur.fetchall()"
   ]
  },
  {
   "cell_type": "markdown",
   "id": "e06b039d-5c55-43bd-ba35-46693fcc5bcd",
   "metadata": {},
   "source": [
    "The following is a query using parameter substitution. While the underlying connection object is a `mysql.connector`-based\n",
    "object which takes the pyformat parameter format, we are using the `sqlparams` package to allow us to \n",
    "use whatever substitution form we want. Since the HTTP API uses question marks for parameters, we have\n",
    "adopted that format here as well."
   ]
  },
  {
   "cell_type": "code",
   "execution_count": null,
   "id": "21332da7-c493-4afe-bff8-77ce6f1f9fa6",
   "metadata": {},
   "outputs": [],
   "source": [
    "cur.execute('select name, hireDate from employees where name like :1', ['%Rhona%'])"
   ]
  },
  {
   "cell_type": "markdown",
   "id": "3a0c4843-bb67-4c79-abe9-b12b5bcd7548",
   "metadata": {},
   "source": [
    "The `description` field returns information about the query results. It includes fields such as `name`, `type_code`,\n",
    "`display_size`, `internal_size`, etc. These are defined in the DB-API, but are not all populated."
   ]
  },
  {
   "cell_type": "code",
   "execution_count": null,
   "id": "57540c70-2b90-41e2-b25c-80cb9c6a972b",
   "metadata": {},
   "outputs": [],
   "source": [
    "cur.description"
   ]
  },
  {
   "cell_type": "code",
   "execution_count": null,
   "id": "6a8954a9-1251-4222-8532-768867556f7e",
   "metadata": {},
   "outputs": [],
   "source": [
    "cur.fetchall()"
   ]
  },
  {
   "cell_type": "markdown",
   "id": "30d09c55-f99b-43ef-85c9-783a32bfa803",
   "metadata": {},
   "source": [
    "## Server Variables\n",
    "\n",
    "Server variables can be accessed through a number of dictionary-like members on the connection. The members are `globals`, `locals`, `cluster_globals`, `cluster_locals` when a scope is specified, or `vars` and `cluster_vars` for all variables regardless of scope."
   ]
  },
  {
   "cell_type": "code",
   "execution_count": null,
   "id": "2848360a-e699-4b1a-9cd7-7f363aa56e79",
   "metadata": {},
   "outputs": [],
   "source": [
    "dict(conn.globals)"
   ]
  },
  {
   "cell_type": "code",
   "execution_count": null,
   "id": "2b99c50d-392c-4a9a-ba8f-05c0fe3b51e5",
   "metadata": {},
   "outputs": [],
   "source": [
    "conn.globals.enable_external_functions = True"
   ]
  },
  {
   "cell_type": "code",
   "execution_count": null,
   "id": "38531d42-b6b5-48d1-ae46-6c44c0b43669",
   "metadata": {},
   "outputs": [],
   "source": [
    "conn.globals.enable_external_functions"
   ]
  },
  {
   "cell_type": "code",
   "execution_count": null,
   "id": "c8e6af50-d1b7-44ac-ba40-8753a09956e6",
   "metadata": {},
   "outputs": [],
   "source": [
    "cur.execute('show variables like \"enable_external_functions\"')\n",
    "cur.fetchall()"
   ]
  },
  {
   "cell_type": "markdown",
   "id": "871e5850-268f-42d5-85d7-1c03c3669ab6",
   "metadata": {},
   "source": [
    "## Enabling the HTTP API"
   ]
  },
  {
   "cell_type": "markdown",
   "id": "327ccd7e-9aae-4e7d-ae9d-fb76cc9af99c",
   "metadata": {},
   "source": [
    "The HTTP API can be enabled using the `conn.enable_http_api` method. This method can optionally set the port number.\n",
    "If a port number is not specified, the existing setting will be used. The port number is returned."
   ]
  },
  {
   "cell_type": "code",
   "execution_count": 10,
   "id": "93f07e97-bd0c-4e8f-9f7c-ac9b3abd422d",
   "metadata": {},
   "outputs": [
    {
     "data": {
      "text/plain": [
       "8100"
      ]
     },
     "execution_count": 10,
     "metadata": {},
     "output_type": "execute_result"
    }
   ],
   "source": [
    "conn.enable_http_api(port=8100)"
   ]
  },
  {
   "cell_type": "markdown",
   "id": "66627c6c-9b90-4965-8c36-6fbbd13b8600",
   "metadata": {},
   "source": [
    "## Create an HTTP connection"
   ]
  },
  {
   "cell_type": "code",
   "execution_count": 11,
   "id": "dd81038d-ac46-4a41-8cee-84f717ec07a9",
   "metadata": {},
   "outputs": [],
   "source": [
    "s2.options.results.format = 'dataframe'"
   ]
  },
  {
   "cell_type": "code",
   "execution_count": 12,
   "id": "991f4a67-926e-4bee-b6f5-c90138f6246f",
   "metadata": {},
   "outputs": [],
   "source": [
    "http_conn = s2.connect('http://root:@localhost:8100/x_db')"
   ]
  },
  {
   "cell_type": "code",
   "execution_count": 13,
   "id": "126dcaee-86c2-40a1-bccd-21dfb897918d",
   "metadata": {},
   "outputs": [],
   "source": [
    "http_cur = http_conn.cursor()"
   ]
  },
  {
   "cell_type": "markdown",
   "id": "90b23fb6-0bc6-4a4a-a5dc-fc4cf288bf9f",
   "metadata": {},
   "source": [
    "## Query data using the HTTP connection"
   ]
  },
  {
   "cell_type": "code",
   "execution_count": 14,
   "id": "5f688cce-13d6-422b-9545-ff6640740dca",
   "metadata": {},
   "outputs": [],
   "source": [
    "http_cur.execute('select name from employees')"
   ]
  },
  {
   "cell_type": "code",
   "execution_count": 15,
   "id": "157d9b25-c8a5-4ea9-a80d-7cdda34bedb0",
   "metadata": {},
   "outputs": [
    {
     "data": {
      "text/plain": [
       "[Description(name='name', type_code=253, display_size=None, internal_size=None, precision=None, scale=None, null_ok=True, flags=0, charset=0)]"
      ]
     },
     "execution_count": 15,
     "metadata": {},
     "output_type": "execute_result"
    }
   ],
   "source": [
    "http_cur.description"
   ]
  },
  {
   "cell_type": "code",
   "execution_count": 16,
   "id": "1aae5616-9ebf-4a43-93ce-da70bc9d2019",
   "metadata": {},
   "outputs": [
    {
     "data": {
      "text/html": [
       "<div>\n",
       "<style scoped>\n",
       "    .dataframe tbody tr th:only-of-type {\n",
       "        vertical-align: middle;\n",
       "    }\n",
       "\n",
       "    .dataframe tbody tr th {\n",
       "        vertical-align: top;\n",
       "    }\n",
       "\n",
       "    .dataframe thead th {\n",
       "        text-align: right;\n",
       "    }\n",
       "</style>\n",
       "<table border=\"1\" class=\"dataframe\">\n",
       "  <thead>\n",
       "    <tr style=\"text-align: right;\">\n",
       "      <th></th>\n",
       "      <th>name</th>\n",
       "    </tr>\n",
       "  </thead>\n",
       "  <tbody>\n",
       "    <tr>\n",
       "      <th>0</th>\n",
       "      <td>Karly Steele</td>\n",
       "    </tr>\n",
       "    <tr>\n",
       "      <th>1</th>\n",
       "      <td>Rhona Nichols</td>\n",
       "    </tr>\n",
       "    <tr>\n",
       "      <th>2</th>\n",
       "      <td>Hedda Kent</td>\n",
       "    </tr>\n",
       "    <tr>\n",
       "      <th>3</th>\n",
       "      <td>Orli Strong</td>\n",
       "    </tr>\n",
       "    <tr>\n",
       "      <th>4</th>\n",
       "      <td>Leonard Haynes</td>\n",
       "    </tr>\n",
       "    <tr>\n",
       "      <th>5</th>\n",
       "      <td>Colette Payne</td>\n",
       "    </tr>\n",
       "    <tr>\n",
       "      <th>6</th>\n",
       "      <td>Cooper Hatfield</td>\n",
       "    </tr>\n",
       "    <tr>\n",
       "      <th>7</th>\n",
       "      <td>Timothy Battle</td>\n",
       "    </tr>\n",
       "    <tr>\n",
       "      <th>8</th>\n",
       "      <td>Doris Munoz</td>\n",
       "    </tr>\n",
       "    <tr>\n",
       "      <th>9</th>\n",
       "      <td>Alea Wiggins</td>\n",
       "    </tr>\n",
       "  </tbody>\n",
       "</table>\n",
       "</div>"
      ],
      "text/plain": [
       "              name\n",
       "0     Karly Steele\n",
       "1    Rhona Nichols\n",
       "2       Hedda Kent\n",
       "3      Orli Strong\n",
       "4   Leonard Haynes\n",
       "5    Colette Payne\n",
       "6  Cooper Hatfield\n",
       "7   Timothy Battle\n",
       "8      Doris Munoz\n",
       "9     Alea Wiggins"
      ]
     },
     "execution_count": 16,
     "metadata": {},
     "output_type": "execute_result"
    }
   ],
   "source": [
    "http_cur.fetchall()"
   ]
  },
  {
   "cell_type": "code",
   "execution_count": 17,
   "id": "d4863d2f-40c7-4b41-88d0-91342d97da1f",
   "metadata": {},
   "outputs": [],
   "source": [
    "http_cur.execute('select name, hireDate from employees where name like :1', ['%Rhona%'])"
   ]
  },
  {
   "cell_type": "code",
   "execution_count": 18,
   "id": "3c3e7057-3170-4309-b298-2875896d29aa",
   "metadata": {},
   "outputs": [
    {
     "data": {
      "text/plain": [
       "[Description(name='name', type_code=253, display_size=None, internal_size=None, precision=None, scale=None, null_ok=True, flags=0, charset=0),\n",
       " Description(name='hireDate', type_code=10, display_size=None, internal_size=None, precision=None, scale=None, null_ok=True, flags=0, charset=0)]"
      ]
     },
     "execution_count": 18,
     "metadata": {},
     "output_type": "execute_result"
    }
   ],
   "source": [
    "http_cur.description"
   ]
  },
  {
   "cell_type": "code",
   "execution_count": 19,
   "id": "e7bca74b-ce87-4ede-85d4-11c7a9d27d22",
   "metadata": {},
   "outputs": [
    {
     "data": {
      "text/html": [
       "<div>\n",
       "<style scoped>\n",
       "    .dataframe tbody tr th:only-of-type {\n",
       "        vertical-align: middle;\n",
       "    }\n",
       "\n",
       "    .dataframe tbody tr th {\n",
       "        vertical-align: top;\n",
       "    }\n",
       "\n",
       "    .dataframe thead th {\n",
       "        text-align: right;\n",
       "    }\n",
       "</style>\n",
       "<table border=\"1\" class=\"dataframe\">\n",
       "  <thead>\n",
       "    <tr style=\"text-align: right;\">\n",
       "      <th></th>\n",
       "      <th>name</th>\n",
       "      <th>hireDate</th>\n",
       "    </tr>\n",
       "  </thead>\n",
       "  <tbody>\n",
       "    <tr>\n",
       "      <th>0</th>\n",
       "      <td>Rhona Nichols</td>\n",
       "      <td>2008-09-11</td>\n",
       "    </tr>\n",
       "  </tbody>\n",
       "</table>\n",
       "</div>"
      ],
      "text/plain": [
       "            name    hireDate\n",
       "0  Rhona Nichols  2008-09-11"
      ]
     },
     "execution_count": 19,
     "metadata": {},
     "output_type": "execute_result"
    }
   ],
   "source": [
    "df = http_cur.fetchall()\n",
    "df"
   ]
  },
  {
   "cell_type": "markdown",
   "id": "38ea5947-c15d-4b4c-b64d-ab5a1203e27a",
   "metadata": {},
   "source": [
    "## Cluster Management\n",
    "\n",
    "The objects allow you to manage clusters and create database connections to those clusters. In order for this call\n",
    "to work, you either need to pass in a cluster management API token or have one set in your `SINGLESTORE_CLUSTER_MANGER_TOKEN` environment variable."
   ]
  },
  {
   "cell_type": "code",
   "execution_count": 20,
   "id": "46c2ddca-6e38-4faa-bbe3-f2e227084359",
   "metadata": {},
   "outputs": [],
   "source": [
    "cm = s2.manage_cluster()"
   ]
  },
  {
   "cell_type": "markdown",
   "id": "7f0f0921-1bf8-48ab-adf4-85f92d9578ed",
   "metadata": {},
   "source": [
    "### Get Current Clusters and Regions"
   ]
  },
  {
   "cell_type": "code",
   "execution_count": 21,
   "id": "1dfc1064-84d0-4027-a426-b9a964051dd3",
   "metadata": {},
   "outputs": [
    {
     "data": {
      "text/plain": [
       "[]"
      ]
     },
     "execution_count": 21,
     "metadata": {},
     "output_type": "execute_result"
    }
   ],
   "source": [
    "cm.clusters"
   ]
  },
  {
   "cell_type": "code",
   "execution_count": 22,
   "id": "74e5336b-51ec-42ad-bd1c-6f324e05d49d",
   "metadata": {},
   "outputs": [
    {
     "data": {
      "text/plain": [
       "[Region(id='09754160-66cd-4e8e-b223-1d9e1507b4ba', provider='Azure', region='East US (Virginia)'),\n",
       " Region(id='1c1de314-2cc0-4c74-bd54-5047ff90842e', provider='GCP', region='US West 1 (Oregon)'),\n",
       " Region(id='22a913e1-ace5-4362-afa0-3d21a01d6d1c', provider='GCP', region='US Central 1 (Iowa)'),\n",
       " Region(id='3186a27b-87d5-4b84-a93b-90c57fd2be74', provider='GCP', region='Asia South 1 (Mumbai)'),\n",
       " Region(id='35551562-6d39-4e14-8747-0f42114a330b', provider='AWS', region='Europe West 1 (Ireland)'),\n",
       " Region(id='3de9e276-1c93-4987-9463-5700aa08a837', provider='AWS', region='US West 2 (Oregon)'),\n",
       " Region(id='57ba8143-d4cc-470a-901f-871c684ee2bc', provider='AWS', region='Europe North 1 (Stockholm)'),\n",
       " Region(id='6e218f48-a71f-4521-8c7c-53d0ef087a42', provider='GCP', region='Europe West 1 (Belgium)'),\n",
       " Region(id='7b9163df-67b0-45fb-985b-e571fbcb3792', provider='AWS', region='South America East 1 (Sao Paulo)'),\n",
       " Region(id='7e7ffd27-20f7-44b6-87e6-e72828a81ac7', provider='AWS', region='Europe Central 1 (Frankfurt)'),\n",
       " Region(id='7edebe18-2fdf-43c3-95b9-e4e83f17c756', provider='GCP', region='Europe West 4 (Netherlands)'),\n",
       " Region(id='86e33c9f-a635-4320-807e-500f97cc8e1f', provider='AWS', region='Asia Pacific South 1 (Mumbai)'),\n",
       " Region(id='88b166e9-580a-4b26-801e-170a6bfb3e5c', provider='AWS', region='Africa South 1 (Cape Town)'),\n",
       " Region(id='93b61160-0cae-4e11-a5de-977b8e2e3ee5', provider='GCP', region='US East 4 (N. Virginia)'),\n",
       " Region(id='9939d0fb-e4f0-448c-b849-23121138e88a', provider='GCP', region='Europe North 1 (Finland)'),\n",
       " Region(id='99b1a977-cde0-496f-8c2e-0946b2f444db', provider='AWS', region='Canada Central 1 (Montreal)'),\n",
       " Region(id='a6cf93ae-eaa3-4c83-a6b8-de7608d6b221', provider='GCP', region='Europe West 3 (Frankfurt)'),\n",
       " Region(id='c04471f4-5d89-46e1-8d1e-76b8282ea0df', provider='AWS', region='Europe West 3 (Paris)'),\n",
       " Region(id='c74bb6a6-0f14-4d56-bc80-1d874fa277b7', provider='AWS', region='Asia Pacific Southeast 2 (Sydney)'),\n",
       " Region(id='e3443c04-d6e6-47ff-9b10-fdb748425904', provider='AWS', region='US East 1 (N. Virginia)'),\n",
       " Region(id='ef8d7728-c25c-465c-bd4f-46aa728c01fc', provider='Azure', region='West Europe (Netherlands)')]"
      ]
     },
     "execution_count": 22,
     "metadata": {},
     "output_type": "execute_result"
    }
   ],
   "source": [
    "cm.regions"
   ]
  },
  {
   "cell_type": "markdown",
   "id": "0f0d5e33-caae-493b-a8ec-0207a7188c94",
   "metadata": {},
   "source": [
    "### Create a Cluster"
   ]
  },
  {
   "cell_type": "code",
   "execution_count": null,
   "id": "502fe29f-d5ec-4cb1-a826-f46ef2307606",
   "metadata": {},
   "outputs": [],
   "source": [
    "import secrets\n",
    "password = secrets.token_urlsafe(20)"
   ]
  },
  {
   "cell_type": "code",
   "execution_count": null,
   "id": "fa266e16-84f2-4c5b-909f-b922979d2f3c",
   "metadata": {},
   "outputs": [],
   "source": [
    "clus = cm.create_cluster('Demo Cluster', \n",
    "                         region_id=cm.regions[0],\n",
    "                         admin_password=password, \n",
    "                         firewall_ranges=['0.0.0.0/0'],\n",
    "                         expires_at='1h', wait_on_active=True)\n",
    "clus"
   ]
  },
  {
   "cell_type": "markdown",
   "id": "2cf37482-5550-4db2-b7cf-6cfb8a59400f",
   "metadata": {},
   "source": [
    "### Make a Database Connection to Cluster"
   ]
  },
  {
   "cell_type": "code",
   "execution_count": null,
   "id": "b9c01106-2178-43c3-bec9-9087d38f78aa",
   "metadata": {},
   "outputs": [],
   "source": [
    "with clus.connect(user='admin', password=password) as conn:\n",
    "    with conn.cursor() as cur:\n",
    "        cur.execute('show databases')\n",
    "        print(cur.fetchall())"
   ]
  },
  {
   "cell_type": "code",
   "execution_count": null,
   "id": "78bfe288-6cf4-4e34-a6a5-3ca2e495cab5",
   "metadata": {},
   "outputs": [],
   "source": [
    "clus.terminate()"
   ]
  },
  {
   "cell_type": "code",
   "execution_count": null,
   "id": "0ad6d4dc-d915-4fdd-bf3c-9ebcf181ed95",
   "metadata": {},
   "outputs": [],
   "source": []
  }
 ],
 "metadata": {
  "kernelspec": {
   "display_name": "Python 3 (ipykernel)",
   "language": "python",
   "name": "python3"
  },
  "language_info": {
   "codemirror_mode": {
    "name": "ipython",
    "version": 3
   },
   "file_extension": ".py",
   "mimetype": "text/x-python",
   "name": "python",
   "nbconvert_exporter": "python",
   "pygments_lexer": "ipython3",
   "version": "3.9.4"
  }
 },
 "nbformat": 4,
 "nbformat_minor": 5
}
